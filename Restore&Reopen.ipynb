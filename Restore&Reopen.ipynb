{
 "cells": [
  {
   "cell_type": "code",
   "execution_count": 1,
   "metadata": {},
   "outputs": [
    {
     "name": "stdout",
     "output_type": "stream",
     "text": [
      "['Asian', 'Black of African American', 'Choose not to answer', 'Multiracial', 'Other race, ethnicity, origin', 'White/Caucasian'] [100, 53, 6, 7, 10, 10]\n"
     ]
    }
   ],
   "source": [
    "import pandas as pd\n",
    "import plotly.graph_objects as go\n",
    "\n",
    "#RACE\n",
    "\n",
    "data = pd.read_excel(r\"C:\\Users\\Pinar\\Documents\\Commerce\\Restore_Reopen\\Restore and Reopen Grant Report 9.6.20(1).xlsx\")\n",
    "\n",
    "#cleaning race data\n",
    "minority_stat_cols = data.loc[:,'Are You Of Hispanic, Latino, Or Spanish Origin?':'With Which Of The Following Categories Do You Identify -  (check All That Apply)']\n",
    "\n",
    "num_hispanic = 0\n",
    "\n",
    "for row in minority_stat_cols.index:\n",
    "    try:\n",
    "        hispanic = minority_stat_cols.iloc[row,0]\n",
    "        if hispanic == 'Yes':\n",
    "            num_hispanic = num_hispanic + 1\n",
    "    except IndexError:\n",
    "        break\n",
    "        \n",
    "colors = ['#ebd80e','#adaa84']\n",
    "hispanic_graph = go.Figure(data=[go.Pie(labels=['Hispanic','Non-Hispanic'],values=[num_hispanic,186-num_hispanic],hole=.5)])\n",
    "hispanic_graph.update_traces(textinfo='none',marker=dict(colors=colors))\n",
    "#hispanic_graph.show(renderer='browser')\n",
    "\n",
    "multiracial_col = []\n",
    "minority_stat_cols = minority_stat_cols.rename(columns={'With Which Of The Following Categories Do You Identify -  (check All That Apply)':'Race'})\n",
    "\n",
    "for row in minority_stat_cols.itertuples():\n",
    "    value = str(row.Race)\n",
    "    container = len(value)\n",
    "    if container > 30:\n",
    "        value = 'Multiracial'\n",
    "    multiracial_col.append(value)\n",
    "minority_stat_cols['Race'] = multiracial_col\n",
    "races = minority_stat_cols.groupby(by=['Race'])\n",
    "race_names = list(races.groups.keys())\n",
    "race_size = races.size().tolist()\n",
    "\n",
    "\n",
    "print(race_names, race_size)\n",
    "colors = ['#ffaa00','#82675a','#e09a0d','#a85a32','#a1677c','#ffcd69','#857352']\n",
    "#race_graph = go.Figure(data=[go.Sunburst(labels=race_names, parents=['','','','','','','Choose not to answer'],values=race_size)])\n",
    "race_graph = go.Figure(data=[go.Pie(labels=race_names, values=race_size)])\n",
    "race_graph.update_traces(textinfo='percent+label',marker=dict(colors=colors))\n",
    "race_graph.show(renderer='browser')\n"
   ]
  },
  {
   "cell_type": "code",
   "execution_count": 14,
   "metadata": {},
   "outputs": [],
   "source": [
    "import pandas as pd\n",
    "import plotly.graph_objects as go\n",
    "\n",
    "#GENDER\n",
    "data = pd.read_excel(r\"C:\\Users\\Pinar\\Documents\\Commerce\\Restore_Reopen\\Restore and Reopen Grant Report 9.6.20(1).xlsx\")\n",
    "\n",
    "gender = data.groupby(by='How Do You Identify?')\n",
    "gender_name = list(gender.groups.keys())\n",
    "gender_size = list(gender.size())\n",
    "gender_graph = go.Figure(data=[go.Pie(labels=gender_name,values=gender_size,hole=.5)])\n",
    "colors = ['#ff00ad','#f5d3ea','#faa0de']\n",
    "gender_graph.update_traces(textinfo='none',marker=dict(colors=colors))\n",
    "gender_graph.show(renderer='browser')"
   ]
  },
  {
   "cell_type": "code",
   "execution_count": 15,
   "metadata": {},
   "outputs": [],
   "source": [
    "import pandas as pd\n",
    "import plotly.graph_objects as go\n",
    "\n",
    "#FOREIGN BORN\n",
    "data = pd.read_excel(r\"C:\\Users\\Pinar\\Documents\\Commerce\\Restore_Reopen\\Restore and Reopen Grant Report 9.6.20(1).xlsx\")\n",
    "immigrants = data.groupby(by='In Which Country Were You Born?').size()\n",
    "#print(immigrants)\n",
    "#can show numbers for number of unique countries, but not single out countries of origin\n",
    "\n",
    "#number of foreign born grantees\n",
    "immigrant_stat_col = data.loc[:,'In Which Country Were You Born?']\n",
    "num_immigrants = 0\n",
    "num_native = 0\n",
    "for index, value in immigrant_stat_col.iteritems():\n",
    "    if value != 'US':\n",
    "        num_immigrants = num_immigrants + 1\n",
    "    else:\n",
    "        num_native = num_native + 1\n",
    "\n",
    "labels = ['Foreign Born','Native Born']\n",
    "values = [num_immigrants,num_native]\n",
    "immigrants_graph = go.Figure(data=[go.Pie(labels=labels,values=values,hole=.5)])\n",
    "colors = ['#f25d00','#f58742']\n",
    "immigrants_graph.update_traces(textinfo='none',marker=dict(colors=colors))\n",
    "immigrants_graph.show(renderer='browser')"
   ]
  },
  {
   "cell_type": "code",
   "execution_count": 2,
   "metadata": {},
   "outputs": [
    {
     "name": "stdout",
     "output_type": "stream",
     "text": [
      "{'0-30%': 26, '31-60%': 53, '61-90%': 34, '91-100%': 73}\n"
     ]
    },
    {
     "data": {
      "text/plain": [
       "'\\n'"
      ]
     },
     "execution_count": 2,
     "metadata": {},
     "output_type": "execute_result"
    }
   ],
   "source": [
    "import pandas as pd\n",
    "import plotly.graph_objects as go\n",
    "\n",
    "#COVID Impact\n",
    "\n",
    "data = pd.read_csv(r\"C:\\Users\\Pinar\\Documents\\Commerce\\Restore_Reopen\\R_R Grant Agreement Additional.csv\")\n",
    "data = data.rename(columns={'Restore & Reopen App - Please Estimate The Percent Decline In Revenue Due To C O V I D-19 - ':'RD'})\n",
    "rev_decline = dict(data.groupby(by=['RD']).size())\n",
    "\n",
    "rev_0_30 = rev_decline.get('0%') + rev_decline.get('less than 10%') + rev_decline.get('11-20%') + rev_decline.get('21-30%')\n",
    "del rev_decline['0%']\n",
    "del rev_decline['less than 10%']\n",
    "del rev_decline['11-20%']\n",
    "del rev_decline['21-30%']\n",
    "rev_decline['0-30%'] = rev_0_30\n",
    "\n",
    "rev_30_60 = rev_decline.get('31-40%') + rev_decline.get('41-50%') + rev_decline.get('51-60%')\n",
    "del rev_decline['31-40%']\n",
    "del rev_decline['41-50%']\n",
    "del rev_decline['51-60%']\n",
    "rev_decline['31-60%']= rev_30_60\n",
    "\n",
    "rev_60_90 = rev_decline.get('61-70%') + rev_decline.get('71-80%') + rev_decline.get('81-90%')\n",
    "del rev_decline['61-70%']\n",
    "del rev_decline['71-80%']\n",
    "del rev_decline['81-90%']\n",
    "rev_decline['61-90%']= rev_60_90 - 2\n",
    "\n",
    "reorder=rev_decline.pop('91-100%')\n",
    "rev_decline['91-100%']=reorder\n",
    "print(rev_decline)\n",
    "\n",
    "decline_ranges = list(rev_decline.keys())\n",
    "decline_tally = list(rev_decline.values())\n",
    "\n",
    "colors = ['#f5b9b5','#ed8b85','#f56056','#ff2f1c']\n",
    "covid_graph = go.Figure(data=[go.Bar(x=decline_ranges,y=decline_tally,\n",
    "                                    marker_color=colors)])\n",
    "covid_graph.update_layout(\n",
    "    yaxis=dict(tick0=0, dtick=15,showgrid=True,gridcolor='black'),\n",
    "    paper_bgcolor='white',\n",
    "    plot_bgcolor='white')\n",
    "covid_graph.show(renderer='browser')\n",
    "\"\"\"\n",
    "\"\"\""
   ]
  },
  {
   "cell_type": "code",
   "execution_count": 8,
   "metadata": {},
   "outputs": [
    {
     "data": {
      "text/plain": [
       "\"\\n#if there's time, add the boxplot over the scatter plot\\npoverty_IQR = go.Figure(data=[go.Box(x=poverty_rates,boxpoints='all')])\\npoverty_IQR.show(renderer='svg')\\n\""
      ]
     },
     "execution_count": 8,
     "metadata": {},
     "output_type": "execute_result"
    }
   ],
   "source": [
    "import pandas as pd\n",
    "import plotly.graph_objects as go\n",
    "\n",
    "#POVERTY RATE\n",
    "\n",
    "data = pd.read_excel(r\"C:\\Users\\Pinar\\Documents\\Commerce\\Restore_Reopen\\Restore and Reopen Grant Report 9.6.20(1).xlsx\")\n",
    "\n",
    "data = data.rename(columns={'Poverty Rate':'PR'})\n",
    "poverty = data.groupby(by='PR').size()\n",
    "#print(poverty)\n",
    "poverty_rates = list(poverty.keys())\n",
    "poverty_tally = poverty.values.tolist()\n",
    "\n",
    "poverty_graph = go.Figure(data=[go.Scatter(\n",
    "            x=poverty_rates,\n",
    "            y=poverty_tally,\n",
    "            mode='markers',\n",
    "            marker=dict(\n",
    "                size=poverty_tally,\n",
    "                sizemode='area',\n",
    "                sizeref=2.*max(poverty_tally)/(40.**2),\n",
    "                sizemin=2,\n",
    "                color=poverty_rates,\n",
    "                colorscale=[[0,'#ebccb9'],[.5,'#ff8a1c'],[1,'#ff4800']]\n",
    "                )\n",
    "    \n",
    ")])\n",
    "\n",
    "\n",
    "poverty_graph.update_layout(\n",
    "    yaxis=dict(tick0=0,dtick=25),#showticklabels=False),\n",
    "    xaxis=dict(range=[20,80],gridcolor='black',ticksuffix='%',showticksuffix='all'),\n",
    "    paper_bgcolor='white',\n",
    "    plot_bgcolor='white'\n",
    ")\n",
    "\n",
    "#poverty_graph.show(renderer='browser')\n",
    "\n",
    "poverty_IQR = go.Figure(data=[go.Box(x=poverty_rates,boxpoints='all')])\n",
    "poverty_IQR.show(renderer='browser')\n",
    "\"\"\"\n",
    "#if there's time, add the boxplot over the scatter plot\n",
    "poverty_IQR = go.Figure(data=[go.Box(x=poverty_rates,boxpoints='all')])\n",
    "poverty_IQR.show(renderer='svg')\n",
    "\"\"\"\n"
   ]
  },
  {
   "cell_type": "code",
   "execution_count": 32,
   "metadata": {},
   "outputs": [
    {
     "name": "stdout",
     "output_type": "stream",
     "text": [
      "87\n",
      "5007025.0 3904840.0 8911915\n",
      "[42, 146]\n",
      "3029582\n"
     ]
    },
    {
     "data": {
      "text/plain": [
       "\"\\nins_graph = go.Figure(go.Pie(labels=['No Insurance','Insured'],\\n                             values=ins_count,\\n                             hole=.5)\\n                     )\\ncolors = ['#ff2f1c','#f2c4b1']\\nins_graph.update_traces(textinfo='none',marker=dict(colors=colors))\\nins_graph.show(renderer='browser')\\n\""
      ]
     },
     "execution_count": 32,
     "metadata": {},
     "output_type": "execute_result"
    }
   ],
   "source": [
    "import pandas as pd\n",
    "import plotly.graph_objects as go\n",
    "\n",
    "data = pd.read_csv(r\"C:\\Users\\Pinar\\Documents\\Commerce\\Restore_Reopen\\insurance_info.csv\")\n",
    "\n",
    "#if the insurance costs and outofpocket != tot_damage, remove from dataset\n",
    "data = data.rename(columns={'Restore & Reopen App - How Much Of The Damage Do You Expect Will Be Covered By Insurance?':'Ins'})\n",
    "data = data.rename(columns={'Restore & Reopen App - What Out Of Pocket Expenses Are You Expecting?':'Oop'})\n",
    "data = data.rename(columns={'Restore & Reopen App - Total Of Damage:':'Tot'})\n",
    "\n",
    "accurate_data_ids = []\n",
    "accurate_ins = []\n",
    "accurate_oop = []\n",
    "accurate_tot = []\n",
    "\n",
    "for row in data.itertuples():\n",
    "    if ((row.Ins + row.Oop) < (row.Tot+5000)) & ((row.Ins + row.Oop)>(row.Tot-5000)):\n",
    "        accurate_data_ids.append(row.Index)\n",
    "        accurate_ins.append(row.Ins)\n",
    "        accurate_oop.append(row.Oop)\n",
    "        accurate_tot.append(row.Tot)\n",
    "        \n",
    "print(len(accurate_data_ids))\n",
    "ins=sum(accurate_ins)\n",
    "oop=sum(accurate_oop)\n",
    "tot=sum(accurate_tot)\n",
    "print(ins,oop,tot)\n",
    "\n",
    "#tot_damage = 25998695\n",
    "#insurance = 9618443\n",
    "#out_of_pocket = 8581127\n",
    "#other = 4000000\n",
    "\n",
    "damage_graph = go.Figure()\n",
    "damage_graph.add_trace(go.Bar(\n",
    "    y=['Insurance Coverage'],x=[ins],name='Covered',orientation='h'))\n",
    "damage_graph.add_trace(go.Bar(\n",
    "    y=['Insurance Coverage'],x=[oop],name='Out of Pocket',orientation='h'))\n",
    "damage_graph.update_layout(barmode='stack')\n",
    "damage_graph.show(renderer='browser')\n",
    "\n",
    "\n",
    "\"\"\"\n",
    "damage_graph = go.Figure(go.Sunburst(\n",
    "    labels=['Total Damage','Covered by Insurance','Out of Pocket'],\n",
    "    parents=['','Total Damage','Total Damage'],\n",
    "    values=[tot,ins,oop],\n",
    "    branchvalues='total',\n",
    "))\n",
    "colors=['#bf524b','#f2c4b1','#ff1100']\n",
    "damage_graph.update_traces(textinfo='none',\n",
    "                           marker=dict(colors=colors))\n",
    "damage_graph.show(renderer='browser')\n",
    "\"\"\"\n",
    "\n",
    "#number of people with no insurance\n",
    "ins_grouping = data.groupby(by='Restore & Reopen App - Do You Have Insurance?')\n",
    "ins_count = ins_grouping.size().values.tolist()\n",
    "print(ins_count)\n",
    "no_ins_group = ins_grouping.get_group('No')\n",
    "no_ins = no_ins_group['Tot'].sum()\n",
    "print(no_ins)\n",
    "\n",
    "ins_graph = go.Figure()\n",
    "ins_graph.add_trace(go.Bar(\n",
    "    y=['Insurance Status'],x=[42],name='No Insurance',orientation='h'))\n",
    "ins_graph.add_trace(go.Bar(\n",
    "    y=['Insurance Status'],x=[146],name='Insurance',orientation='h'))\n",
    "ins_graph.update_layout(barmode='stack')\n",
    "ins_graph.show(renderer='browser')\n",
    "\n",
    "\"\"\"\n",
    "ins_graph = go.Figure(go.Pie(labels=['No Insurance','Insured'],\n",
    "                             values=ins_count,\n",
    "                             hole=.5)\n",
    "                     )\n",
    "colors = ['#ff2f1c','#f2c4b1']\n",
    "ins_graph.update_traces(textinfo='none',marker=dict(colors=colors))\n",
    "ins_graph.show(renderer='browser')\n",
    "\"\"\"\n"
   ]
  },
  {
   "cell_type": "code",
   "execution_count": 2,
   "metadata": {},
   "outputs": [
    {
     "name": "stdout",
     "output_type": "stream",
     "text": [
      "Do You (Owner) Live in the neighborhood or Immediately Adjacent to the Neighborhood Where Business Is Located?\n",
      "No     109\n",
      "Yes     77\n",
      "dtype: int64\n",
      "3.0 2.0\n",
      "351818.2393617021 188500.0\n"
     ]
    }
   ],
   "source": [
    "import pandas as pd\n",
    "import plotly.graph_objects as go\n",
    "\n",
    "#LOCAL BUSINESS OWNERS + EMPLOYEES\n",
    "\n",
    "data1 = pd.read_excel(r\"C:\\Users\\Pinar\\Documents\\Commerce\\Restore_Reopen\\Restore and Reopen Grant Report 9.6.20(1).xlsx\")\n",
    "data2 = pd.read_csv(r\"C:\\Users\\Pinar\\Documents\\Commerce\\Restore_Reopen\\R_R Grant Agreement Additional.csv\")\n",
    "\n",
    "worker_data = data1.loc[:,'# Of Full-time Employees (35 hrs or more/week)':'# of Employees that Live in the neighborhood or Immediately Adjacent to the Neighborhood Where Business Is Located?']\n",
    "local_own = worker_data.groupby(by='Do You (Owner) Live in the neighborhood or Immediately Adjacent to the Neighborhood Where Business Is Located?').size()\n",
    "print(local_own)\n",
    "#difference = worker_data['Total # of Employees (including you as the owner)'].sum() \n",
    "#added ft + pt cols together to represent total workers bc ft+pt !=tot\n",
    "num_full_time_col = worker_data['# Of Full-time Employees (35 hrs or more/week)']\n",
    "num_part_time_col = worker_data['# Of Part-time Employees (less than 35 hours/week)']\n",
    "all_workers = num_full_time_col + num_part_time_col\n",
    "worker_data['Total_Workers']=all_workers\n",
    "\n",
    "num_full_time = worker_data['# Of Full-time Employees (35 hrs or more/week)'].sum()\n",
    "num_part_time = worker_data['# Of Part-time Employees (less than 35 hours/week)'].sum()\n",
    "\n",
    "local_employee = worker_data['# of Employees that Live in the neighborhood or Immediately Adjacent to the Neighborhood Where Business Is Located?'].sum()\n",
    "non_loc_employee = all_workers.sum() - local_employee\n",
    "\n",
    "ftpt = [num_full_time,local_employee]\n",
    "second_bar = [num_part_time,non_loc_employee]\n",
    "ftpt_graph = go.Figure(data=[\n",
    "                        go.Bar(name='Full-time',x=['Employment type'],y=[num_full_time],marker_color='#ffbb33',width=[.2]),\n",
    "                        go.Bar(name='Part-time',x=['Employment type'],y=[num_part_time],marker_color='#f5d698',width=[.2])\n",
    "])\n",
    "ftpt_graph.update_layout(barmode='stack',\n",
    "                         yaxis=dict(tick0=0,dtick=250,gridcolor='black'),\n",
    "                         paper_bgcolor='white',\n",
    "                         plot_bgcolor='white')\n",
    "ftpt_graph.show(renderer='browser')\n",
    "\n",
    "local_graph = go.Figure(data=[\n",
    "                        go.Bar(name='Neighborhood employees',x=['Neighborhood employees'],y=[local_employee],marker_color='#ffbb33',width=[.25]),\n",
    "                        go.Bar(name='Non-neighborhood employees',x=['Neighborhood employees'],y=[non_loc_employee],marker_color='#f5d698',width=[.25])\n",
    "])\n",
    "local_graph.update_layout(barmode='stack',\n",
    "                         yaxis=dict(tick0=0,dtick=250,gridcolor='black'),\n",
    "                         paper_bgcolor='white',\n",
    "                         plot_bgcolor='white')\n",
    "local_graph.show(renderer='browser')\n",
    "\n",
    "med_workers = worker_data['Total_Workers'].median()\n",
    "local_employee_med = worker_data['# of Employees that Live in the neighborhood or Immediately Adjacent to the Neighborhood Where Business Is Located?'].median()\n",
    "print(med_workers,local_employee_med)\n",
    "\n",
    "revenue = data2['Restore & Reopen App - Annual Revenue In 2019:']\n",
    "print(revenue.mean(),revenue.median())\n"
   ]
  },
  {
   "cell_type": "code",
   "execution_count": 4,
   "metadata": {},
   "outputs": [
    {
     "name": "stdout",
     "output_type": "stream",
     "text": [
      "Type Of Business (select One)\n",
      "501c3 nonprofit                                                       1\n",
      "Adult/Childcare                                                       7\n",
      "Distribution/Logistics/Warehousing                                    4\n",
      "IT/Technology                                                         3\n",
      "Manufacturing                                                         1\n",
      "Other                                                                 4\n",
      "Personal services  (e.g. barber shop, nail salon, dry-cleaner)        9\n",
      "Professional services (e.g. attorney, accountant, multi-service)      8\n",
      "Restaurant/Catering/Food & Beverage                                  33\n",
      "Retail                                                              116\n",
      "dtype: int64\n",
      "['Nonprofit', 'Caretaking', 'Logistics', 'IT/Technology', 'Manufacturing', 'Other', 'Personal services', 'Professional services', 'Food', 'Retail']\n"
     ]
    },
    {
     "data": {
      "image/svg+xml": [
       "<svg class=\"main-svg\" xmlns=\"http://www.w3.org/2000/svg\" xmlns:xlink=\"http://www.w3.org/1999/xlink\" width=\"700\" height=\"450\" style=\"\" viewBox=\"0 0 700 450\"><rect x=\"0\" y=\"0\" width=\"700\" height=\"450\" style=\"fill: rgb(255, 255, 255); fill-opacity: 1;\"/><defs id=\"defs-dc4341\"><g class=\"clips\"/><g class=\"gradients\"/></defs><g class=\"bglayer\"/><g class=\"layer-below\"><g class=\"imagelayer\"/><g class=\"shapelayer\"/></g><g class=\"cartesianlayer\"/><g class=\"polarlayer\"/><g class=\"ternarylayer\"/><g class=\"geolayer\"/><g class=\"funnelarealayer\"/><g class=\"pielayer\"><g class=\"trace\" stroke-linejoin=\"round\" style=\"opacity: 1;\"><g class=\"slice\"><path class=\"surface\" d=\"M307.5,235l0,-135a135,135 0 1 1 -94.64985268542709,231.26217007021475Z\" style=\"pointer-events: all; stroke-width: 0; fill: rgb(99, 110, 250); fill-opacity: 1; stroke: rgb(68, 68, 68); stroke-opacity: 1;\"/><g class=\"slicetext\"><text data-notex=\"1\" class=\"slicetext\" transform=\"translate(369.9703859435403,265.2316372787139)\" text-anchor=\"middle\" x=\"0\" y=\"0\" style=\"font-family: 'Open Sans', verdana, arial, sans-serif; font-size: 12px; fill: rgb(255, 255, 255); fill-opacity: 1; white-space: pre;\">62.4%</text></g></g><g class=\"slice\"><path class=\"surface\" d=\"M307.5,235l-121.20361284205013,-59.45321046028063a135,135 0 0 1 121.20361284205013,-75.54678953971937Z\" style=\"pointer-events: all; stroke-width: 0; fill: rgb(239, 85, 59); fill-opacity: 1; stroke: rgb(68, 68, 68); stroke-opacity: 1;\"/><g class=\"slicetext\"><text data-notex=\"1\" class=\"slicetext\" transform=\"translate(260.79508025576797,164.73294967590436)\" text-anchor=\"middle\" x=\"0\" y=\"0\" style=\"font-family: 'Open Sans', verdana, arial, sans-serif; font-size: 12px; fill: rgb(68, 68, 68); fill-opacity: 1; white-space: pre;\">17.7%</text></g></g><g class=\"slice\"><path class=\"surface\" d=\"M307.5,235l-133.44322378429504,-20.442749963117855a135,135 0 0 1 12.239610942244909,-39.010460497162775Z\" style=\"pointer-events: all; stroke-width: 0; fill: rgb(0, 204, 150); fill-opacity: 1; stroke: rgb(68, 68, 68); stroke-opacity: 1;\"/><g class=\"slicetext\"><text data-notex=\"1\" class=\"slicetext\" transform=\"translate(207.02445433326014,208.36383503479735)rotate(17.419354838709637)\" text-anchor=\"middle\" x=\"0\" y=\"0\" style=\"font-family: 'Open Sans', verdana, arial, sans-serif; font-size: 12px; fill: rgb(68, 68, 68); fill-opacity: 1; white-space: pre;\">4.84%</text></g></g><g class=\"slice\"><path class=\"surface\" d=\"M307.5,235l-134.05752955250102,15.92415681536422a135,135 0 0 1 0.6143057682059805,-36.366906778482075Z\" style=\"pointer-events: all; stroke-width: 0; fill: rgb(171, 99, 250); fill-opacity: 1; stroke: rgb(68, 68, 68); stroke-opacity: 1;\"/><g class=\"slicetext\"><text data-notex=\"1\" class=\"slicetext\" transform=\"translate(198.23098931691345,237.81896781827984)rotate(0.9677419354839003)\" text-anchor=\"middle\" x=\"0\" y=\"0\" style=\"font-family: 'Open Sans', verdana, arial, sans-serif; font-size: 12px; fill: rgb(68, 68, 68); fill-opacity: 1; white-space: pre;\">4.3%</text></g></g><g class=\"slice\"><path class=\"surface\" d=\"M307.5,235l-126.59653783985587,46.88620913405072a135,135 0 0 1 -7.4609917126451535,-30.962052318686503Z\" style=\"pointer-events: all; stroke-width: 0; fill: rgb(255, 161, 90); fill-opacity: 1; stroke: rgb(68, 68, 68); stroke-opacity: 1;\"/><g class=\"slicetext\"><text data-notex=\"1\" class=\"slicetext\" transform=\"translate(203.48916088928758,264.861280654371)rotate(-13.54838709677415)\" text-anchor=\"middle\" x=\"0\" y=\"0\" style=\"font-family: 'Open Sans', verdana, arial, sans-serif; font-size: 12px; fill: rgb(68, 68, 68); fill-opacity: 1; white-space: pre;\">3.76%</text></g></g><g class=\"slice\"><path class=\"surface\" d=\"M307.5,235l-119.1264839160596,63.512839881371995a135,135 0 0 1 -7.4700539237962715,-16.626630747321272Z\" style=\"pointer-events: all; stroke-width: 0; fill: rgb(25, 211, 243); fill-opacity: 1; stroke: rgb(68, 68, 68); stroke-opacity: 1;\"/><g class=\"slicetext\"><text data-notex=\"1\" class=\"slicetext\" transform=\"translate(160.595835002914,296.2218968475454)\" text-anchor=\"middle\" x=\"0\" y=\"0\" style=\"font-family: 'Open Sans', verdana, arial, sans-serif; font-size: 12px; fill: rgb(42, 63, 95); fill-opacity: 1; white-space: pre;\">2.15%</text></g></g><g class=\"slice\"><path class=\"surface\" d=\"M307.5,235l-109.48472277878264,78.98161481036655a135,135 0 0 1 -9.641761137276958,-15.468774928994556Z\" style=\"pointer-events: all; stroke-width: 0; fill: rgb(255, 102, 146); fill-opacity: 1; stroke: rgb(68, 68, 68); stroke-opacity: 1;\"/><g class=\"slicetext\"><text data-notex=\"1\" class=\"slicetext\" transform=\"translate(169.17130648820864,313.12682065854375)\" text-anchor=\"middle\" x=\"0\" y=\"0\" style=\"font-family: 'Open Sans', verdana, arial, sans-serif; font-size: 12px; fill: rgb(42, 63, 95); fill-opacity: 1; white-space: pre;\">2.15%</text></g></g><g class=\"slice\"><path class=\"surface\" d=\"M307.5,235l-100.93255463445416,89.65277137357734a135,135 0 0 1 -8.552168144328476,-10.671156563210786Z\" style=\"pointer-events: all; stroke-width: 0; fill: rgb(182, 232, 128); fill-opacity: 1; stroke: rgb(68, 68, 68); stroke-opacity: 1;\"/><g class=\"slicetext\"><text data-notex=\"1\" class=\"slicetext\" transform=\"translate(178.39443447146766,327.79869565854375)\" text-anchor=\"middle\" x=\"0\" y=\"0\" style=\"font-family: 'Open Sans', verdana, arial, sans-serif; font-size: 12px; fill: rgb(42, 63, 95); fill-opacity: 1; white-space: pre;\">1.61%</text></g><path class=\"textline\" stroke-width=\"1.5\" d=\"M202.15615322146766,319.425552683421V323.13463315854375h-3.66796875\" fill=\"none\" style=\"stroke: rgb(42, 63, 95); stroke-opacity: 1;\"/></g><g class=\"slice\"><path class=\"surface\" d=\"M307.5,235l-97.84702627593116,93.01053407521772a135,135 0 0 1 -3.085528358523007,-3.3577627016403824Z\" style=\"pointer-events: all; stroke-width: 0; fill: rgb(255, 151, 255); fill-opacity: 1; stroke: rgb(68, 68, 68); stroke-opacity: 1;\"/><g class=\"slicetext\"><text data-notex=\"1\" class=\"slicetext\" transform=\"translate(180.52181206708843,342.47057065854375)\" text-anchor=\"middle\" x=\"0\" y=\"0\" style=\"font-family: 'Open Sans', verdana, arial, sans-serif; font-size: 12px; fill: rgb(42, 63, 95); fill-opacity: 1; white-space: pre;\">0.538%</text></g><path class=\"textline\" stroke-width=\"1.5\" d=\"M208.09603081708843,326.3446818960073V337.80650815854375h-3.66796875\" fill=\"none\" style=\"stroke: rgb(42, 63, 95); stroke-opacity: 1;\"/></g><g class=\"slice\"><path class=\"surface\" d=\"M307.5,235l-94.64985268542708,96.26217007021478a135,135 0 0 1 -3.197173590504079,-3.2516359949970592Z\" style=\"pointer-events: all; stroke-width: 0; fill: rgb(254, 203, 82); fill-opacity: 1; stroke: rgb(68, 68, 68); stroke-opacity: 1;\"/><g class=\"slicetext\"><text data-notex=\"1\" class=\"slicetext\" transform=\"translate(183.66361117978528,357.14244565854375)\" text-anchor=\"middle\" x=\"0\" y=\"0\" style=\"font-family: 'Open Sans', verdana, arial, sans-serif; font-size: 12px; fill: rgb(42, 63, 95); fill-opacity: 1; white-space: pre;\">0.538%</text></g><path class=\"textline\" stroke-width=\"1.5\" d=\"M211.23782992978528,329.64985268542716V352.47838315854375h-3.66796875\" fill=\"none\" style=\"stroke: rgb(42, 63, 95); stroke-opacity: 1;\"/></g></g></g><g class=\"treemaplayer\"/><g class=\"sunburstlayer\"/><g class=\"glimages\"/><defs id=\"topdefs-dc4341\"><g class=\"clips\"/><clipPath id=\"legenddc4341\"><rect width=\"170\" height=\"200\" x=\"0\" y=\"0\"/></clipPath></defs><g class=\"layer-above\"><g class=\"imagelayer\"/><g class=\"shapelayer\"/></g><g class=\"infolayer\"><g class=\"legend\" pointer-events=\"all\" transform=\"translate(518.1, 100)\"><rect class=\"bg\" shape-rendering=\"crispEdges\" style=\"stroke: rgb(68, 68, 68); stroke-opacity: 1; fill: rgb(255, 255, 255); fill-opacity: 1; stroke-width: 0px;\" width=\"170\" height=\"200\" x=\"0\" y=\"0\"/><g class=\"scrollbox\" transform=\"translate(0, 0)\" clip-path=\"url('#legenddc4341')\"><g class=\"groups\"><g class=\"traces\" style=\"opacity: 1;\" transform=\"translate(0, 14.5)\"><text class=\"legendtext user-select-none\" text-anchor=\"start\" x=\"40\" y=\"4.680000000000001\" style=\"font-family: 'Open Sans', verdana, arial, sans-serif; font-size: 12px; fill: rgb(42, 63, 95); fill-opacity: 1; white-space: pre;\">Retail</text><g class=\"layers\" style=\"opacity: 1;\"><g class=\"legendfill\"/><g class=\"legendlines\"/><g class=\"legendsymbols\"><g class=\"legendpoints\"><path class=\"legendpie\" d=\"M6,6H-6V-6H6Z\" transform=\"translate(20,0)\" style=\"stroke-width: 0; fill: rgb(99, 110, 250); fill-opacity: 1; stroke: rgb(68, 68, 68); stroke-opacity: 1;\"/></g></g></g><rect class=\"legendtoggle\" pointer-events=\"all\" x=\"0\" y=\"-9.5\" width=\"164.96875\" height=\"19\" style=\"cursor: pointer; fill: rgb(0, 0, 0); fill-opacity: 0;\"/></g><g class=\"traces\" style=\"opacity: 1;\" transform=\"translate(0, 33.5)\"><text class=\"legendtext user-select-none\" text-anchor=\"start\" x=\"40\" y=\"4.680000000000001\" style=\"font-family: 'Open Sans', verdana, arial, sans-serif; font-size: 12px; fill: rgb(42, 63, 95); fill-opacity: 1; white-space: pre;\">Food</text><g class=\"layers\" style=\"opacity: 1;\"><g class=\"legendfill\"/><g class=\"legendlines\"/><g class=\"legendsymbols\"><g class=\"legendpoints\"><path class=\"legendpie\" d=\"M6,6H-6V-6H6Z\" transform=\"translate(20,0)\" style=\"stroke-width: 0; fill: rgb(239, 85, 59); fill-opacity: 1; stroke: rgb(68, 68, 68); stroke-opacity: 1;\"/></g></g></g><rect class=\"legendtoggle\" pointer-events=\"all\" x=\"0\" y=\"-9.5\" width=\"164.96875\" height=\"19\" style=\"cursor: pointer; fill: rgb(0, 0, 0); fill-opacity: 0;\"/></g><g class=\"traces\" style=\"opacity: 1;\" transform=\"translate(0, 52.5)\"><text class=\"legendtext user-select-none\" text-anchor=\"start\" x=\"40\" y=\"4.680000000000001\" style=\"font-family: 'Open Sans', verdana, arial, sans-serif; font-size: 12px; fill: rgb(42, 63, 95); fill-opacity: 1; white-space: pre;\">Personal services</text><g class=\"layers\" style=\"opacity: 1;\"><g class=\"legendfill\"/><g class=\"legendlines\"/><g class=\"legendsymbols\"><g class=\"legendpoints\"><path class=\"legendpie\" d=\"M6,6H-6V-6H6Z\" transform=\"translate(20,0)\" style=\"stroke-width: 0; fill: rgb(0, 204, 150); fill-opacity: 1; stroke: rgb(68, 68, 68); stroke-opacity: 1;\"/></g></g></g><rect class=\"legendtoggle\" pointer-events=\"all\" x=\"0\" y=\"-9.5\" width=\"164.96875\" height=\"19\" style=\"cursor: pointer; fill: rgb(0, 0, 0); fill-opacity: 0;\"/></g><g class=\"traces\" style=\"opacity: 1;\" transform=\"translate(0, 71.5)\"><text class=\"legendtext user-select-none\" text-anchor=\"start\" x=\"40\" y=\"4.680000000000001\" style=\"font-family: 'Open Sans', verdana, arial, sans-serif; font-size: 12px; fill: rgb(42, 63, 95); fill-opacity: 1; white-space: pre;\">Professional services</text><g class=\"layers\" style=\"opacity: 1;\"><g class=\"legendfill\"/><g class=\"legendlines\"/><g class=\"legendsymbols\"><g class=\"legendpoints\"><path class=\"legendpie\" d=\"M6,6H-6V-6H6Z\" transform=\"translate(20,0)\" style=\"stroke-width: 0; fill: rgb(171, 99, 250); fill-opacity: 1; stroke: rgb(68, 68, 68); stroke-opacity: 1;\"/></g></g></g><rect class=\"legendtoggle\" pointer-events=\"all\" x=\"0\" y=\"-9.5\" width=\"164.96875\" height=\"19\" style=\"cursor: pointer; fill: rgb(0, 0, 0); fill-opacity: 0;\"/></g><g class=\"traces\" style=\"opacity: 1;\" transform=\"translate(0, 90.5)\"><text class=\"legendtext user-select-none\" text-anchor=\"start\" x=\"40\" y=\"4.680000000000001\" style=\"font-family: 'Open Sans', verdana, arial, sans-serif; font-size: 12px; fill: rgb(42, 63, 95); fill-opacity: 1; white-space: pre;\">Caretaking</text><g class=\"layers\" style=\"opacity: 1;\"><g class=\"legendfill\"/><g class=\"legendlines\"/><g class=\"legendsymbols\"><g class=\"legendpoints\"><path class=\"legendpie\" d=\"M6,6H-6V-6H6Z\" transform=\"translate(20,0)\" style=\"stroke-width: 0; fill: rgb(255, 161, 90); fill-opacity: 1; stroke: rgb(68, 68, 68); stroke-opacity: 1;\"/></g></g></g><rect class=\"legendtoggle\" pointer-events=\"all\" x=\"0\" y=\"-9.5\" width=\"164.96875\" height=\"19\" style=\"cursor: pointer; fill: rgb(0, 0, 0); fill-opacity: 0;\"/></g><g class=\"traces\" style=\"opacity: 1;\" transform=\"translate(0, 109.5)\"><text class=\"legendtext user-select-none\" text-anchor=\"start\" x=\"40\" y=\"4.680000000000001\" style=\"font-family: 'Open Sans', verdana, arial, sans-serif; font-size: 12px; fill: rgb(42, 63, 95); fill-opacity: 1; white-space: pre;\">Logistics</text><g class=\"layers\" style=\"opacity: 1;\"><g class=\"legendfill\"/><g class=\"legendlines\"/><g class=\"legendsymbols\"><g class=\"legendpoints\"><path class=\"legendpie\" d=\"M6,6H-6V-6H6Z\" transform=\"translate(20,0)\" style=\"stroke-width: 0; fill: rgb(25, 211, 243); fill-opacity: 1; stroke: rgb(68, 68, 68); stroke-opacity: 1;\"/></g></g></g><rect class=\"legendtoggle\" pointer-events=\"all\" x=\"0\" y=\"-9.5\" width=\"164.96875\" height=\"19\" style=\"cursor: pointer; fill: rgb(0, 0, 0); fill-opacity: 0;\"/></g><g class=\"traces\" style=\"opacity: 1;\" transform=\"translate(0, 128.5)\"><text class=\"legendtext user-select-none\" text-anchor=\"start\" x=\"40\" y=\"4.680000000000001\" style=\"font-family: 'Open Sans', verdana, arial, sans-serif; font-size: 12px; fill: rgb(42, 63, 95); fill-opacity: 1; white-space: pre;\">Other</text><g class=\"layers\" style=\"opacity: 1;\"><g class=\"legendfill\"/><g class=\"legendlines\"/><g class=\"legendsymbols\"><g class=\"legendpoints\"><path class=\"legendpie\" d=\"M6,6H-6V-6H6Z\" transform=\"translate(20,0)\" style=\"stroke-width: 0; fill: rgb(255, 102, 146); fill-opacity: 1; stroke: rgb(68, 68, 68); stroke-opacity: 1;\"/></g></g></g><rect class=\"legendtoggle\" pointer-events=\"all\" x=\"0\" y=\"-9.5\" width=\"164.96875\" height=\"19\" style=\"cursor: pointer; fill: rgb(0, 0, 0); fill-opacity: 0;\"/></g><g class=\"traces\" style=\"opacity: 1;\" transform=\"translate(0, 147.5)\"><text class=\"legendtext user-select-none\" text-anchor=\"start\" x=\"40\" y=\"4.680000000000001\" style=\"font-family: 'Open Sans', verdana, arial, sans-serif; font-size: 12px; fill: rgb(42, 63, 95); fill-opacity: 1; white-space: pre;\">IT/Technology</text><g class=\"layers\" style=\"opacity: 1;\"><g class=\"legendfill\"/><g class=\"legendlines\"/><g class=\"legendsymbols\"><g class=\"legendpoints\"><path class=\"legendpie\" d=\"M6,6H-6V-6H6Z\" transform=\"translate(20,0)\" style=\"stroke-width: 0; fill: rgb(182, 232, 128); fill-opacity: 1; stroke: rgb(68, 68, 68); stroke-opacity: 1;\"/></g></g></g><rect class=\"legendtoggle\" pointer-events=\"all\" x=\"0\" y=\"-9.5\" width=\"164.96875\" height=\"19\" style=\"cursor: pointer; fill: rgb(0, 0, 0); fill-opacity: 0;\"/></g><g class=\"traces\" style=\"opacity: 1;\" transform=\"translate(0, 166.5)\"><text class=\"legendtext user-select-none\" text-anchor=\"start\" x=\"40\" y=\"4.680000000000001\" style=\"font-family: 'Open Sans', verdana, arial, sans-serif; font-size: 12px; fill: rgb(42, 63, 95); fill-opacity: 1; white-space: pre;\">Nonprofit</text><g class=\"layers\" style=\"opacity: 1;\"><g class=\"legendfill\"/><g class=\"legendlines\"/><g class=\"legendsymbols\"><g class=\"legendpoints\"><path class=\"legendpie\" d=\"M6,6H-6V-6H6Z\" transform=\"translate(20,0)\" style=\"stroke-width: 0; fill: rgb(255, 151, 255); fill-opacity: 1; stroke: rgb(68, 68, 68); stroke-opacity: 1;\"/></g></g></g><rect class=\"legendtoggle\" pointer-events=\"all\" x=\"0\" y=\"-9.5\" width=\"164.96875\" height=\"19\" style=\"cursor: pointer; fill: rgb(0, 0, 0); fill-opacity: 0;\"/></g><g class=\"traces\" style=\"opacity: 1;\" transform=\"translate(0, 185.5)\"><text class=\"legendtext user-select-none\" text-anchor=\"start\" x=\"40\" y=\"4.680000000000001\" style=\"font-family: 'Open Sans', verdana, arial, sans-serif; font-size: 12px; fill: rgb(42, 63, 95); fill-opacity: 1; white-space: pre;\">Manufacturing</text><g class=\"layers\" style=\"opacity: 1;\"><g class=\"legendfill\"/><g class=\"legendlines\"/><g class=\"legendsymbols\"><g class=\"legendpoints\"><path class=\"legendpie\" d=\"M6,6H-6V-6H6Z\" transform=\"translate(20,0)\" style=\"stroke-width: 0; fill: rgb(254, 203, 82); fill-opacity: 1; stroke: rgb(68, 68, 68); stroke-opacity: 1;\"/></g></g></g><rect class=\"legendtoggle\" pointer-events=\"all\" x=\"0\" y=\"-9.5\" width=\"164.96875\" height=\"19\" style=\"cursor: pointer; fill: rgb(0, 0, 0); fill-opacity: 0;\"/></g></g></g><rect class=\"scrollbar\" rx=\"20\" ry=\"3\" width=\"0\" height=\"0\" style=\"fill: rgb(128, 139, 164); fill-opacity: 1;\" x=\"0\" y=\"0\"/></g><g class=\"g-gtitle\"/></g></svg>"
      ]
     },
     "metadata": {},
     "output_type": "display_data"
    },
    {
     "data": {
      "text/plain": [
       "'\\n\\n'"
      ]
     },
     "execution_count": 4,
     "metadata": {},
     "output_type": "execute_result"
    }
   ],
   "source": [
    "import pandas as pd\n",
    "import plotly.graph_objects as go\n",
    "\n",
    "data=pd.read_excel(r\"C:\\Users\\Pinar\\Documents\\Commerce\\Restore_Reopen\\Restore and Reopen Grant Report 9.6.20(1).xlsx\")\n",
    "#number of grantees by sector - think of a creative way to show this.. bubbles in covid report look cool\n",
    "industry_group = data.groupby(by=['Type Of Business (select One)']).size()\n",
    "print(industry_group)\n",
    "\n",
    "industry = list(industry_group.keys())\n",
    "industry[0]='Nonprofit'\n",
    "industry[1]='Caretaking'\n",
    "industry[2]='Logistics'\n",
    "industry[-2]='Food'\n",
    "industry[6]='Personal services'\n",
    "industry[7]='Professional services'\n",
    "tally = industry_group.values.tolist()\n",
    "print(industry)\n",
    "\n",
    "industry_graph = go.Figure(data=[go.Pie(labels=industry,values=tally)])\n",
    "industry_graph.show(renderer='svg')\n",
    "\"\"\"\n",
    "\n",
    "\"\"\""
   ]
  },
  {
   "cell_type": "code",
   "execution_count": 165,
   "metadata": {},
   "outputs": [
    {
     "name": "stdout",
     "output_type": "stream",
     "text": [
      "8440.032258064517 10000.0 1569846\n"
     ]
    }
   ],
   "source": [
    "import pandas as pd\n",
    "import plotly.graph_objects as go\n",
    "\n",
    "#GRANT BREAKDOWN\n",
    "grants = data['R&R Grant Amount  $']\n",
    "avg_grant = grants.mean()\n",
    "mode_grant = grants.median()\n",
    "total_grant = grants.sum()\n",
    "print(avg_grant, mode_grant, total_grant)"
   ]
  },
  {
   "cell_type": "code",
   "execution_count": 51,
   "metadata": {
    "scrolled": true
   },
   "outputs": [
    {
     "name": "stdout",
     "output_type": "stream",
     "text": [
      "                   Organization  Frequency\n",
      "0           Commerce Department         31\n",
      "1              Another business          9\n",
      "2            The Merchants Fund         45\n",
      "3  CDC / community organization         45\n",
      "4                  Social media         23\n",
      "5                         Other         60\n",
      "6                     Newspaper          2\n",
      "7                          CDFI          2\n",
      "8                         Radio          1\n"
     ]
    }
   ],
   "source": [
    "import pandas as pd\n",
    "from collections import Counter\n",
    "\n",
    "#to collect internal data for commerce program evaluation\n",
    "\n",
    "data = pd.read_csv(r\"C:\\Users\\Pinar\\Documents\\Commerce\\Restore_Reopen\\R_R Grant Agreement Additional.csv\")\n",
    "data = data.iloc[:,19:27]\n",
    "#print(data)\n",
    "\n",
    "raw_categories = data.loc[:,'Restore & Reopen App - How Did You Hear About This Grant Program? (check All That Apply)']\n",
    "all_instances = []\n",
    "for raw_org in raw_categories:\n",
    "    all_orgs = raw_org.splitlines()\n",
    "    for org in all_orgs:\n",
    "        all_instances.append(org)\n",
    "#print(len(all_instances))\n",
    "keys=Counter(all_instances).keys()\n",
    "values=Counter(all_instances).values()\n",
    "x=list(zip(keys,values))\n",
    "org_frequency = pd.DataFrame(x,columns=['Organization','Frequency'])\n",
    "print(org_frequency)\n",
    "\n",
    "person_sources = data.loc[:,'Restore & Reopen App - Who?'].dropna()\n",
    "social_media_sources = data.loc[:,'Restore & Reopen App - What Platform? (eg Facebook, Instagram, Linked In, Twitter)'].dropna()\n",
    "business_sources = data.loc[:,'Restore & Reopen App - What Business?'].dropna()\n",
    "other_sources = data.loc[:,'Restore & Reopen App - Please Explain - '].dropna()\n",
    "\n",
    "\n",
    "with pd.ExcelWriter(r'C:\\Users\\Pinar\\Documents\\Commerce\\Restore_Reopen\\internal.xlsx') as writer:  \n",
    "    org_frequency.to_excel(writer, sheet_name='Org Freq',index=False)\n",
    "    person_sources.to_excel(writer, sheet_name='Person Sources',index=False)\n",
    "    social_media_sources.to_excel(writer,sheet_name='Social Media',index=False)\n",
    "    business_sources.to_excel(writer, sheet_name='Business Sources',index=False)\n",
    "    other_sources.to_excel(writer, sheet_name='Other Sources',index=False)\n"
   ]
  },
  {
   "cell_type": "code",
   "execution_count": 84,
   "metadata": {
    "scrolled": true
   },
   "outputs": [
    {
     "name": "stdout",
     "output_type": "stream",
     "text": [
      "With Which Of The Following Categories Do You Identify -  (check All That Apply)\n",
      "Asian                                                          125\n",
      "Asian\\nOther race, ethnicity, origin                             2\n",
      "Black of African American                                       53\n",
      "Black of African American\\nNative American or Alaska Native      1\n",
      "Black of African American\\nOther race, ethnicity, origin         2\n",
      "Choose not to answer                                             8\n",
      "Multiracial                                                      4\n",
      "Other race, ethnicity, origin                                   14\n",
      "White/Caucasian                                                 16\n",
      "dtype: int64\n",
      "eligible\n",
      "['2S moving and transportation', '9th & Girard Pharmacy', 'A.O.K Hair company llc', 'B & A Pharmacy', 'Brewerytown Rx Inc', 'Broad and grange pharmacy', 'Children Space learning Academy', 'DeShields Enterprises, LLC dba What A Crock Meals', 'FKATAN LLC', 'Germantown Electronics', 'Golden Health Services', 'Hair connection', 'High Street Learning Center', 'Hillrise Pharmacy', 'Hoggard Insurance Tag Notary Agency LLC', 'Joan accessories', 'KIF’s bar and lounge', 'Kaptivating Kidz Talent Development Academy', 'Learning garden academy', \"Lene's Daily Child Care Inc.\", \"Lorraine's Upscale On Sale\", 'MEEKTREATS', 'MG Multiservice', 'MMR Group Inc', 'Mabel Marie fashion', 'Maty Hair Braiding Shop', 'Models ink hair studio', 'Paradise Gallery LLC', 'Progressive Ventures Inc.', 'RPH Group Inc', 'RXB Group Inc', 'RXN Corporation', \"Reeky's Kitchen Magician Catering LLC\", 'Ridge Delight', 'Rr', 'SEJ FINANCIALS LLC', 'Saige Boutique', 'StaèCovered LLC', 'Superior Auto Body & Repair', 'TaxPrep Station, LLC', 'The Better Box, LLC', 'The Enterprise Center', 'The Enterprise Center', 'The Enterprise Center', 'The Enterprise Center', 'TheShoeBarBySimDiva', 'Tire Techs Usa Inc.', 'Total glamor beauty salon', 'West end smoke shop', 'clarks tires', 'haverford pharmacy', 'rippin it salon', 'sams one stop shop llc']\n",
      "approved\n",
      "['2S moving and transportation', '52nd Street Vendor', '52nd Street Vendor - Amadou Wane', '9th & Girard Pharmacy', 'A.O.K Hair company llc', 'B & A Pharmacy', 'Brewerytown Rx Inc', 'Broad and grange pharmacy', 'Children Space learning Academy', 'DeShields Enterprises, LLC dba What A Crock Meals', 'Germantown Electronics', 'Golden Health Services', 'Hair connection', 'High Street Learning Center', 'Hillrise Pharmacy', 'Hoggard Insurance Tag Notary Agency LLC', 'Jallal Inc.', 'Joan accessories', 'KIF’s bar and lounge', 'Kaptivating Kidz Talent Development Academy', 'LN Pharmacy', 'Learning garden academy', \"Lene's Daily Child Care Inc.\", \"Lorraine's Upscale On Sale\", 'MEEKTREATS', 'MG Multiservice', 'MMR Group Inc', 'Mabel Marie fashion', 'Maty Hair Braiding Shop', 'Models ink hair studio', 'Paradise Gallery LLC', 'Progressive Ventures Inc.', 'RPH Group Inc', 'RXB Group Inc', 'RXN Corporation', \"Reeky's Kitchen Magician Catering LLC\", 'Ridge Delight', 'Rr', 'SEJ FINANCIALS LLC', 'Saige Boutique', 'StaèCovered LLC', 'Superior Auto Body & Repair', 'TaxPrep Station, LLC', 'The 3rd Eye', 'The Better Box, LLC', 'TheShoeBarBySimDiva', 'Tire Techs Usa Inc.', 'Total glamor beauty salon', 'West end smoke shop', 'clarks tires', 'haverford pharmacy', 'rippin it salon', 'sams one stop shop llc']\n",
      "length aa\n",
      "53\n",
      "length\n",
      "186\n",
      "APPROVED\n",
      "53 53\n",
      "Are You Of Hispanic, Latino, Or Spanish Origin?\n",
      "No     217\n",
      "Yes      8\n",
      "dtype: int64\n"
     ]
    }
   ],
   "source": [
    "import pandas as pd\n",
    "\n",
    "#race pipeline \n",
    "\n",
    "eligible = pd.read_csv(r\"C:\\Users\\Pinar\\Downloads\\race_applicants.csv\")\n",
    "approved = pd.read_excel(r\"C:\\Users\\Pinar\\Documents\\Commerce\\Restore_Reopen\\Restore and Reopen Grant Report 9.6.20(1).xlsx\")\n",
    "\n",
    "group_eligible = eligible.groupby(by=['With Which Of The Following Categories Do You Identify -  (check All That Apply)'])\n",
    "print(group_eligible.size())\n",
    "eligible_blacks=group_eligible.get_group('Black of African American')\n",
    "#print(eligible_blacks)\n",
    "\n",
    "approved_group = approved.groupby(by=['With Which Of The Following Categories Do You Identify -  (check All That Apply)'])\n",
    "approved_blacks = approved_group.get_group('Black of African American')\n",
    "#print(approved_blacks)\n",
    "\n",
    "eligible_blacks_names = eligible_blacks.loc[:,'Linked To Business Profile - Do N O T Delete'].tolist()\n",
    "eligible_blacks_names=sorted(eligible_blacks_names)\n",
    "print('eligible')\n",
    "print(eligible_blacks_names)\n",
    "approved_blacks_names = approved_blacks.loc[:,'Name Of Business'].tolist()\n",
    "approved_blacks_names=sorted(approved_blacks_names)\n",
    "print('approved')\n",
    "print(approved_blacks_names)\n",
    "\n",
    "\n",
    "\n",
    "print('length aa')\n",
    "print(len(blacks))\n",
    "print('length')\n",
    "print(len(data))\n",
    "print('APPROVED')\n",
    "print(len(eligible_blacks_names),len(approved_blacks_names))\n",
    "\n",
    "\"\"\"\n",
    "approved:\n",
    "Asian: 100\n",
    "Black of African American: 53\n",
    "Choose not to answer: 6\n",
    "Multiracial: 7\n",
    "Other race, ethnicity, origin: 10\n",
    "White/Caucasian: 10\n",
    "\n",
    "100/125 asian apps approved\n",
    "53/53 black eligible apps were approved\n",
    "7/9 multiracial apps approved\n",
    "7/8 hispanic apps approved\n",
    "\n",
    "\"\"\"\n",
    "latin = eligible.groupby(by=['Are You Of Hispanic, Latino, Or Spanish Origin?'])\n",
    "print(latin.size())"
   ]
  },
  {
   "cell_type": "code",
   "execution_count": 27,
   "metadata": {},
   "outputs": [
    {
     "name": "stdout",
     "output_type": "stream",
     "text": [
      "dict_keys(['Approved for Agreement', 'Denied', 'Grant Completed', 'Held for Follow-up', 'In Progress', 'Ineligible', 'Rescinded', 'Uncategorized'])\n",
      "{'Approved for Agreement': 0, 'Denied': 7505481, 'Grant Completed': 25965216, 'Held for Follow-up': 1443003, 'In Progress': 2488816, 'Ineligible': 2578499, 'Rescinded': 33479, 'Uncategorized': 175350}\n"
     ]
    }
   ],
   "source": [
    "import pandas as pd\n",
    "\n",
    "#for nick\n",
    "data = pd.read_csv(r\"C:\\Users\\Pinar\\Documents\\Commerce\\Restore_Reopen\\nick.csv\")\n",
    "folder_group= data.groupby(by='Folder - Name')\n",
    "folder_names = folder_group.groups.keys()\n",
    "print(folder_names)\n",
    "folder_damages = []\n",
    "\n",
    "for category in folder_group.groups.keys():\n",
    "    df = folder_group.get_group(category)\n",
    "    folder_damages.append(df['Total Of Damage:'].sum())\n",
    "    \n",
    "folder_zip = dict(zip(folder_names,folder_damages))\n",
    "print(folder_zip)\n"
   ]
  },
  {
   "cell_type": "code",
   "execution_count": null,
   "metadata": {},
   "outputs": [],
   "source": []
  }
 ],
 "metadata": {
  "kernelspec": {
   "display_name": "Python 3",
   "language": "python",
   "name": "python3"
  },
  "language_info": {
   "codemirror_mode": {
    "name": "ipython",
    "version": 3
   },
   "file_extension": ".py",
   "mimetype": "text/x-python",
   "name": "python",
   "nbconvert_exporter": "python",
   "pygments_lexer": "ipython3",
   "version": "3.8.5"
  }
 },
 "nbformat": 4,
 "nbformat_minor": 4
}
